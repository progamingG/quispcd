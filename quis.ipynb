{
 "cells": [
  {
   "cell_type": "markdown",
   "metadata": {},
   "source": []
  },
  {
   "cell_type": "code",
   "execution_count": 16,
   "metadata": {},
   "outputs": [],
   "source": [
    "import cv2\n",
    "import numpy as np\n",
    "from PIL import Image\n"
   ]
  },
  {
   "cell_type": "markdown",
   "metadata": {},
   "source": [
    "Membaca gambar menggunakan PIL"
   ]
  },
  {
   "cell_type": "code",
   "execution_count": 17,
   "metadata": {},
   "outputs": [],
   "source": [
    "def read_image_opencv(image_path):\n",
    "    return cv2.imread(image_path)\n"
   ]
  },
  {
   "cell_type": "markdown",
   "metadata": {},
   "source": [
    "Edge detection menggunakan Sobel"
   ]
  },
  {
   "cell_type": "code",
   "execution_count": 18,
   "metadata": {},
   "outputs": [],
   "source": [
    "def sobel_edge_detection(image):\n",
    "    gray = cv2.cvtColor(image, cv2.COLOR_BGR2GRAY)\n",
    "    sobelx = cv2.Sobel(gray, cv2.CV_64F, 1, 0, ksize=5)\n",
    "    sobely = cv2.Sobel(gray, cv2.CV_64F, 0, 1, ksize=5)\n",
    "    return cv2.bitwise_or(sobelx, sobely)"
   ]
  },
  {
   "cell_type": "markdown",
   "metadata": {},
   "source": [
    "Edge detection menggunakan Canny"
   ]
  },
  {
   "cell_type": "code",
   "execution_count": 19,
   "metadata": {},
   "outputs": [],
   "source": [
    "def canny_edge_detection(image):\n",
    "    gray = cv2.cvtColor(image, cv2.COLOR_BGR2GRAY)\n",
    "    return cv2.Canny(gray, 50, 150)"
   ]
  },
  {
   "cell_type": "markdown",
   "metadata": {},
   "source": [
    " Cropping: Random cropping"
   ]
  },
  {
   "cell_type": "code",
   "execution_count": 20,
   "metadata": {},
   "outputs": [],
   "source": [
    "def random_cropping(image, crop_size):\n",
    "    height, width = image.shape[:2]\n",
    "    x = np.random.randint(0, width - crop_size)\n",
    "    y = np.random.randint(0, height - crop_size)\n",
    "    return image[y:y+crop_size, x:x+crop_size]"
   ]
  },
  {
   "cell_type": "markdown",
   "metadata": {},
   "source": [
    " Cropping: Half-size center cropping"
   ]
  },
  {
   "cell_type": "code",
   "execution_count": 7,
   "metadata": {},
   "outputs": [],
   "source": [
    "def center_cropping(image, crop_size):\n",
    "    height, width = image.shape[:2]\n",
    "    x = (width - crop_size) // 2\n",
    "    y = (height - crop_size) // 2\n",
    "    return image[y:y+crop_size, x:x+crop_size]"
   ]
  },
  {
   "cell_type": "markdown",
   "metadata": {},
   "source": [
    "Transformasi: Putih jadi hitam, hitam jadi putih"
   ]
  },
  {
   "cell_type": "code",
   "execution_count": 27,
   "metadata": {},
   "outputs": [],
   "source": [
    "def invert_colors(image):\n",
    "   return cv2.bitwise_not(image)"
   ]
  },
  {
   "cell_type": "markdown",
   "metadata": {},
   "source": [
    "Menambahkan noise: Salt and pepper noise"
   ]
  },
  {
   "cell_type": "code",
   "execution_count": 9,
   "metadata": {},
   "outputs": [],
   "source": [
    "def add_salt_pepper_noise(image, prob=0.05):\n",
    "    output = np.copy(image)\n",
    "    height, width = image.shape[:2]\n",
    "    num_salt = np.ceil(prob * image.size * 0.5)\n",
    "    coords = [np.random.randint(0, i, int(num_salt)) for i in image.shape[:2]]\n",
    "    output[coords[0], coords[1]] = 255\n",
    "    num_pepper = np.ceil(prob * image.size * 0.5)\n",
    "    coords = [np.random.randint(0, i, int(num_pepper)) for i in image.shape[:2]]\n",
    "    output[coords[0], coords[1]] = 0\n",
    "    return output"
   ]
  },
  {
   "cell_type": "markdown",
   "metadata": {},
   "source": [
    "Menambahkan noise: Gaussian noise"
   ]
  },
  {
   "cell_type": "code",
   "execution_count": 10,
   "metadata": {},
   "outputs": [],
   "source": [
    "def add_gaussian_noise(image, mean=0, std=25):\n",
    "    noise = np.random.normal(mean, std, image.shape)\n",
    "    return np.clip(image + noise, 0, 255).astype(np.uint8)"
   ]
  },
  {
   "cell_type": "markdown",
   "metadata": {},
   "source": [
    "Transformasi geometri: Rotasi"
   ]
  },
  {
   "cell_type": "code",
   "execution_count": 11,
   "metadata": {},
   "outputs": [],
   "source": [
    "def rotate_image(image, angle):\n",
    "    height, width = image.shape[:2]\n",
    "    center = (width / 2, height / 2)\n",
    "    matrix = cv2.getRotationMatrix2D(center, angle, 1)\n",
    "    return cv2.warpAffine(image, matrix, (width, height))"
   ]
  },
  {
   "cell_type": "markdown",
   "metadata": {},
   "source": [
    "Transformasi geometri: Flip vertikal dan horizontal"
   ]
  },
  {
   "cell_type": "code",
   "execution_count": 12,
   "metadata": {},
   "outputs": [],
   "source": [
    "def flip_image(image, flip_code):\n",
    "    return cv2.flip(image, flip_code)"
   ]
  },
  {
   "cell_type": "code",
   "execution_count": 28,
   "metadata": {},
   "outputs": [],
   "source": [
    "if __name__ == \"__main__\":\n",
    "    image_path = \"image/plat.jpeg\"\n",
    "    image = read_image_opencv(image_path)\n",
    "    \n",
    "    # Edge detection\n",
    "    sobel_edges = sobel_edge_detection(image)\n",
    "    canny_edges = canny_edge_detection(image)\n",
    "    \n",
    "    # Cropping\n",
    "    random_cropped = random_cropping(image, 100)\n",
    "    center_cropped = center_cropping(image, 100)\n",
    "    \n",
    "    # Transformasi\n",
    "    inverted = invert_colors(image)\n",
    "    salt_pepper_noise = add_salt_pepper_noise(image)\n",
    "    gaussian_noise = add_gaussian_noise(image)\n",
    "    \n",
    "    # Transformasi geometri\n",
    "    rotated = rotate_image(image, 45)\n",
    "    flipped_vertically = flip_image(image, 0)\n",
    "    flipped_horizontally = flip_image(image, 1)\n",
    "    cv2.imshow(\"Original\", image)\n",
    "    # cv2.imshow(\"Sobel Edges\", sobel_edges)\n",
    "    # cv2.imshow(\"Canny Edges\", canny_edges)\n",
    "    # cv2.imshow(\"Random Cropped\", random_cropped)\n",
    "    # cv2.imshow(\"Center Cropped\", center_cropped)\n",
    "    # cv2.imshow(\"Inverted\", inverted)\n",
    "    # cv2.imshow(\"Salt and Pepper Noise\", salt_pepper_noise)\n",
    "    # cv2.imshow(\"Gaussian Noise\", gaussian_noise)\n",
    "    # cv2.imshow(\"Rotated\", rotated)\n",
    "    # cv2.imshow(\"Flipped Vertically\", flipped_vertically)\n",
    "    # cv2.imshow(\"Flipped Horizontally\", flipped_horizontally)\n",
    "    \n",
    "    cv2.waitKey(10000)\n",
    "    cv2.destroyAllWindows()"
   ]
  }
 ],
 "metadata": {
  "kernelspec": {
   "display_name": "Python 3",
   "language": "python",
   "name": "python3"
  },
  "language_info": {
   "codemirror_mode": {
    "name": "ipython",
    "version": 3
   },
   "file_extension": ".py",
   "mimetype": "text/x-python",
   "name": "python",
   "nbconvert_exporter": "python",
   "pygments_lexer": "ipython3",
   "version": "3.11.0"
  }
 },
 "nbformat": 4,
 "nbformat_minor": 2
}
